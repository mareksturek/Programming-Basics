{
 "cells": [
  {
   "cell_type": "markdown",
   "metadata": {},
   "source": [
    "# Python Examples\n",
    "\n",
    "10/04/2020"
   ]
  },
  {
   "cell_type": "markdown",
   "metadata": {},
   "source": [
    "---"
   ]
  },
  {
   "cell_type": "code",
   "execution_count": 1,
   "metadata": {},
   "outputs": [],
   "source": [
    "# Law of large numbers"
   ]
  },
  {
   "cell_type": "code",
   "execution_count": 59,
   "metadata": {},
   "outputs": [
    {
     "data": {
      "text/plain": [
       "0.68176"
      ]
     },
     "execution_count": 59,
     "metadata": {},
     "output_type": "execute_result"
    }
   ],
   "source": [
    "import numpy as np\n",
    "from numpy.random import randn\n",
    "\n",
    "N = 100000\n",
    "counter = 0\n",
    "for i in randn(N):\n",
    "    if i > -1 and i < 1:\n",
    "        counter = counter + 1\n",
    "counter/N"
   ]
  },
  {
   "cell_type": "code",
   "execution_count": 4,
   "metadata": {},
   "outputs": [],
   "source": [
    "# Calculating profit after tax (30%)"
   ]
  },
  {
   "cell_type": "code",
   "execution_count": 60,
   "metadata": {},
   "outputs": [
    {
     "name": "stdout",
     "output_type": "stream",
     "text": [
      "[21949, 24914, 16659, 16949, 9968, 16871, 18425, 14458, 21256, 21153, 22364]\n",
      "[17122, 19436, 16008, 12857, 18351, 9083, 13456, 16240, 9755, 10191, 15279]\n",
      "[4827, 5478, 651, 4092, -8383, 7788, 4969, -1782, 11501, 10962, 7085]\n",
      "[1448.1, 1643.4, 195.3, 1227.6, -2514.9, 2336.4, 1490.7, -534.6, 3450.3, 3288.6, 2125.5]\n",
      "[3378.9, 3834.6, 455.7, 2864.4, -5868.1, 5451.6, 3478.3, -1247.4, 8050.7, 7673.4, 4959.5]\n"
     ]
    }
   ],
   "source": [
    "import random\n",
    "\n",
    "revenue = []\n",
    "expenses = []\n",
    "profit = []\n",
    "profit_after_tax = []\n",
    "\n",
    "for i in range(0,11):\n",
    "    n = random.randint(9000,25000)\n",
    "    revenue.append(n)\n",
    "print(revenue)\n",
    "    \n",
    "for i in range(0,11):\n",
    "    m = random.randint(3000,20000)\n",
    "    expenses.append(m)\n",
    "print(expenses)\n",
    "\n",
    "for i in range(0, len(revenue)):\n",
    "    profit.append(revenue[i] - expenses[i])\n",
    "print(profit)\n",
    "\n",
    "tax = [round(i * 0.3, 2) for i in profit]\n",
    "print(tax)\n",
    "\n",
    "for i in range(0, len(profit)):\n",
    "    profit_after_tax.append(profit[i] - tax[i])\n",
    "print(profit_after_tax)\n"
   ]
  },
  {
   "cell_type": "code",
   "execution_count": null,
   "metadata": {},
   "outputs": [],
   "source": []
  }
 ],
 "metadata": {
  "kernelspec": {
   "display_name": "Python 3",
   "language": "python",
   "name": "python3"
  },
  "language_info": {
   "codemirror_mode": {
    "name": "ipython",
    "version": 3
   },
   "file_extension": ".py",
   "mimetype": "text/x-python",
   "name": "python",
   "nbconvert_exporter": "python",
   "pygments_lexer": "ipython3",
   "version": "3.8.6"
  }
 },
 "nbformat": 4,
 "nbformat_minor": 4
}

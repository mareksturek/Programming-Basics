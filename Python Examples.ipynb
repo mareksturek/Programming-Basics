{
 "cells": [
  {
   "cell_type": "markdown",
   "metadata": {},
   "source": [
    "# Python Examples\n",
    "\n",
    "10/04/2020"
   ]
  },
  {
   "cell_type": "markdown",
   "metadata": {},
   "source": [
    "---"
   ]
  },
  {
   "cell_type": "code",
   "execution_count": 1,
   "metadata": {},
   "outputs": [],
   "source": [
    "# Law of large numbers"
   ]
  },
  {
   "cell_type": "code",
   "execution_count": 59,
   "metadata": {},
   "outputs": [
    {
     "data": {
      "text/plain": [
       "0.68176"
      ]
     },
     "execution_count": 59,
     "metadata": {},
     "output_type": "execute_result"
    }
   ],
   "source": [
    "import numpy as np\n",
    "from numpy.random import randn\n",
    "\n",
    "N = 100000\n",
    "counter = 0\n",
    "for i in randn(N):\n",
    "    if i > -1 and i < 1:\n",
    "        counter = counter + 1\n",
    "counter/N"
   ]
  },
  {
   "cell_type": "code",
   "execution_count": 4,
   "metadata": {},
   "outputs": [],
   "source": [
    "# Calculating profit after tax (20%)"
   ]
  },
  {
   "cell_type": "code",
   "execution_count": 1,
   "metadata": {},
   "outputs": [
    {
     "name": "stdout",
     "output_type": "stream",
     "text": [
      "[18950, 13083, 13462, 12139, 12991, 16135, 15623, 18441, 20104, 16108, 19499]\n",
      "[4100, 14584, 8306, 14870, 10729, 16298, 12513, 15785, 14305, 7750, 17998]\n",
      "[14850, -1501, 5156, -2731, 2262, -163, 3110, 2656, 5799, 8358, 1501]\n",
      "[2970.0, -300.2, 1031.2, -546.2, 452.4, -32.6, 622.0, 531.2, 1159.8, 1671.6, 300.2]\n",
      "[11880.0, -1200.8, 4124.8, -2184.8, 1809.6, -130.4, 2488.0, 2124.8, 4639.2, 6686.4, 1200.8]\n"
     ]
    }
   ],
   "source": [
    "import random\n",
    "\n",
    "revenue = []\n",
    "expenses = []\n",
    "profit = []\n",
    "profit_after_tax = []\n",
    "\n",
    "for i in range(0,11):\n",
    "    n = random.randint(9000,25000)\n",
    "    revenue.append(n)\n",
    "print(revenue)\n",
    "    \n",
    "for i in range(0,11):\n",
    "    m = random.randint(3000,20000)\n",
    "    expenses.append(m)\n",
    "print(expenses)\n",
    "\n",
    "for i in range(0, len(revenue)):\n",
    "    profit.append(revenue[i] - expenses[i])\n",
    "print(profit)\n",
    "\n",
    "tax = [round(i * 0.2, 2) for i in profit]\n",
    "print(tax)\n",
    "\n",
    "for i in range(0, len(profit)):\n",
    "    profit_after_tax.append(profit[i] - tax[i])\n",
    "print(profit_after_tax)\n"
   ]
  },
  {
   "cell_type": "code",
   "execution_count": null,
   "metadata": {},
   "outputs": [],
   "source": []
  }
 ],
 "metadata": {
  "kernelspec": {
   "display_name": "Python 3",
   "language": "python",
   "name": "python3"
  },
  "language_info": {
   "codemirror_mode": {
    "name": "ipython",
    "version": 3
   },
   "file_extension": ".py",
   "mimetype": "text/x-python",
   "name": "python",
   "nbconvert_exporter": "python",
   "pygments_lexer": "ipython3",
   "version": "3.8.6"
  }
 },
 "nbformat": 4,
 "nbformat_minor": 4
}

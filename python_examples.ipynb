{
 "cells": [
  {
   "cell_type": "markdown",
   "metadata": {},
   "source": [
    "# Python Examples\n",
    "\n",
    "10/04/2020"
   ]
  },
  {
   "cell_type": "markdown",
   "metadata": {},
   "source": [
    "---"
   ]
  },
  {
   "cell_type": "code",
   "execution_count": 1,
   "metadata": {},
   "outputs": [],
   "source": [
    "# Law of large numbers"
   ]
  },
  {
   "cell_type": "code",
   "execution_count": 59,
   "metadata": {},
   "outputs": [
    {
     "data": {
      "text/plain": [
       "0.68176"
      ]
     },
     "execution_count": 59,
     "metadata": {},
     "output_type": "execute_result"
    }
   ],
   "source": [
    "import numpy as np\n",
    "from numpy.random import randn\n",
    "\n",
    "N = 100000\n",
    "counter = 0\n",
    "for i in randn(N):\n",
    "    if i > -1 and i < 1:\n",
    "        counter = counter + 1\n",
    "counter/N"
   ]
  },
  {
   "cell_type": "code",
   "execution_count": 4,
   "metadata": {},
   "outputs": [],
   "source": [
    "# Profit margin calculation after tax (20%)"
   ]
  },
  {
   "cell_type": "code",
   "execution_count": 2,
   "metadata": {},
   "outputs": [
    {
     "name": "stdout",
     "output_type": "stream",
     "text": [
      "[12539, 18512, 15285, 21401, 20858, 11559, 10801, 18315, 13111, 24654, 15474]\n",
      "[18479, 13283, 11776, 5818, 6164, 17036, 19871, 10796, 4584, 10903, 7257]\n",
      "[-5940, 5229, 3509, 15583, 14694, -5477, -9070, 7519, 8527, 13751, 8217]\n",
      "[-1188.0, 1045.8, 701.8, 3116.6, 2938.8, -1095.4, -1814.0, 1503.8, 1705.4, 2750.2, 1643.4]\n",
      "[-4752.0, 4183.2, 2807.2, 12466.4, 11755.2, -4381.6, -7256.0, 6015.2, 6821.6, 11000.8, 6573.6]\n",
      "[-37.9, 22.6, 18.37, 58.25, 56.36, -37.91, -67.18, 32.84, 52.03, 44.62, 42.48]\n"
     ]
    }
   ],
   "source": [
    "import random\n",
    "\n",
    "revenue = []\n",
    "expenses = []\n",
    "profit = []\n",
    "profit_after_tax = []\n",
    "profit_margin = []\n",
    "\n",
    "for i in range(0,11):\n",
    "    n = random.randint(9000,25000)\n",
    "    revenue.append(n)\n",
    "print(revenue)\n",
    "    \n",
    "for i in range(0,11):\n",
    "    m = random.randint(3000,20000)\n",
    "    expenses.append(m)\n",
    "print(expenses)\n",
    "\n",
    "for i in range(0, len(revenue)):\n",
    "    profit.append(revenue[i] - expenses[i])\n",
    "print(profit)\n",
    "\n",
    "tax = [round(i * 0.2, 2) for i in profit]\n",
    "print(tax)\n",
    "\n",
    "for i in range(0, len(profit)):\n",
    "    profit_after_tax.append(profit[i] - tax[i])\n",
    "print(profit_after_tax)\n",
    "\n",
    "for i in range(0, len(profit)):\n",
    "    profit_margin.append(profit_after_tax[i] / revenue[i])\n",
    "\n",
    "profit_margin = [round((i*100),2) for i in profit_margin]\n",
    "print(profit_margin)\n"
   ]
  },
  {
   "cell_type": "code",
   "execution_count": null,
   "metadata": {},
   "outputs": [],
   "source": []
  }
 ],
 "metadata": {
  "kernelspec": {
   "display_name": "Python 3",
   "language": "python",
   "name": "python3"
  },
  "language_info": {
   "codemirror_mode": {
    "name": "ipython",
    "version": 3
   },
   "file_extension": ".py",
   "mimetype": "text/x-python",
   "name": "python",
   "nbconvert_exporter": "python",
   "pygments_lexer": "ipython3",
   "version": "3.8.6"
  }
 },
 "nbformat": 4,
 "nbformat_minor": 4
}
